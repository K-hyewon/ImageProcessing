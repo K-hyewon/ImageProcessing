{
 "cells": [
  {
   "cell_type": "code",
   "execution_count": 1,
   "metadata": {},
   "outputs": [],
   "source": [
    "import cv2\n",
    "import numpy as np\n",
    "import matplotlib.pyplot as plt"
   ]
  },
  {
   "cell_type": "code",
   "execution_count": 2,
   "metadata": {},
   "outputs": [
    {
     "data": {
      "text/plain": [
       "'/home/tkd_010/ImageProcessing'"
      ]
     },
     "execution_count": 2,
     "metadata": {},
     "output_type": "execute_result"
    }
   ],
   "source": [
    "pwd"
   ]
  },
  {
   "cell_type": "code",
   "execution_count": null,
   "metadata": {},
   "outputs": [],
   "source": [
    "lena = cv2.imread('/home/tkd_010/DIP/OpenCV_Python_Tutorial/images/lena.jpg')\n",
    "orange = cv2.imread('/home/tkd_010/DIP/OpenCV_Python_Tutorial/images/orange.jpg')\n",
    "\n"
   ]
  },
  {
   "cell_type": "code",
   "execution_count": null,
   "metadata": {},
   "outputs": [],
   "source": [
    "img_1 = cv2.imread('/home/tkd_010/DIP/OpenCV_Python_Tutorial/images/lena.jpg')\n",
    "img_2 = cv2.imread('/home/tkd_010/DIP/OpenCV_Python_Tutorial/images/orange.jpg')\n",
    "\n",
    "img_1 = cv2.cvtColor(img_1, cv2.COLOR_BGR2HSV)\n",
    "img_2 = cv2.cvtColor(img_2, cv2.COLOR_BGR2HSV)\n",
    "\n",
    "plt.imshow(cv2.cvtColor(img_1, cv2.COLOR_HSV2RGB))\n",
    "plt.show()\n",
    "plt.imshow(cv2.cvtColor(img_2, cv2.COLOR_HSV2RGB))\n",
    "plt.show()"
   ]
  }
 ],
 "metadata": {
  "kernelspec": {
   "display_name": "gachon2",
   "language": "python",
   "name": "python3"
  },
  "language_info": {
   "codemirror_mode": {
    "name": "ipython",
    "version": 3
   },
   "file_extension": ".py",
   "mimetype": "text/x-python",
   "name": "python",
   "nbconvert_exporter": "python",
   "pygments_lexer": "ipython3",
   "version": "3.9.16"
  },
  "orig_nbformat": 4
 },
 "nbformat": 4,
 "nbformat_minor": 2
}
