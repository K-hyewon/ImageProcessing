{
 "cells": [
  {
   "cell_type": "code",
   "execution_count": 18,
   "metadata": {},
   "outputs": [],
   "source": [
    "import cv2\n",
    "import numpy as np\n",
    "import matplotlib.pyplot as plt"
   ]
  },
  {
   "cell_type": "code",
   "execution_count": 14,
   "metadata": {},
   "outputs": [],
   "source": [
    "path = '../data/images/binary_img.jpg'\n",
    "img_ori = cv2.imread(path, cv2.IMREAD_GRAYSCALE)\n",
    "img = img_ori.copy()\n",
    "ret, thresh = cv2.threshold(img, 120,255,0)\n",
    "contours, hierarchy = cv2.findContours(thresh,\n",
    "                                      cv2.RETR_LIST,\n",
    "                                      cv2.CHAIN_APPROX_SIMPLE)\n",
    "\n",
    "cnt0 = contours[0]\n",
    "cnt1 = contours[1]\n",
    "\n",
    "# cv2.drawContours(img, [contours[0]], -1, (0,255,0), 3)\n",
    "# plt.figure()\n",
    "# plt.imshow(img[..., ::-1], cmap='gray')"
   ]
  },
  {
   "cell_type": "code",
   "execution_count": 16,
   "metadata": {},
   "outputs": [
    {
     "name": "stdout",
     "output_type": "stream",
     "text": [
      "False\n"
     ]
    }
   ],
   "source": [
    "k = cv2.isContourConvex(cnt1)\n",
    "print(k)"
   ]
  },
  {
   "cell_type": "code",
   "execution_count": null,
   "metadata": {},
   "outputs": [],
   "source": [
    "img = np.float64\n",
    "cv2.epllipse(img, \n",
    "             (64,64),\n",
    "             (),\n",
    "             30\n",
    "             )"
   ]
  }
 ],
 "metadata": {
  "kernelspec": {
   "display_name": "gachon2",
   "language": "python",
   "name": "python3"
  },
  "language_info": {
   "codemirror_mode": {
    "name": "ipython",
    "version": 3
   },
   "file_extension": ".py",
   "mimetype": "text/x-python",
   "name": "python",
   "nbconvert_exporter": "python",
   "pygments_lexer": "ipython3",
   "version": "3.9.16"
  },
  "orig_nbformat": 4
 },
 "nbformat": 4,
 "nbformat_minor": 2
}
